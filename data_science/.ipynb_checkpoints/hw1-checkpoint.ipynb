{
 "cells": [
  {
   "cell_type": "markdown",
   "id": "99bbd883-3443-44cf-b406-cd24abc9574b",
   "metadata": {
    "tags": []
   },
   "source": [
    "# Задание 1"
   ]
  },
  {
   "cell_type": "raw",
   "id": "ea0fc49e-35da-4190-8f98-b7c5bf0dfb04",
   "metadata": {},
   "source": [
    "Вкладчик положил 50000 условных единиц на три разных счета в три разных банка. По первому счету выплаты составят 5% годовых, по второму – 7% годовых и по третьему 6% годовых. Известно, что через год вкладчик получил по процентам сумму в 2250 у.е. с первого и второго банка и сумму в 1400 у.е. с первого и третьего банка. Сколько условных единиц он положил на каждый счет изначально?"
   ]
  },
  {
   "cell_type": "markdown",
   "id": "eb2d603a-2b27-485e-9957-6e930e548ec8",
   "metadata": {},
   "source": [
    "x<sub>1</sub>, x<sub>2</sub>, x<sub>3</sub> - положено денег на 1, 2 и 3 счет.<br />\n",
    "Получаем систему уравнений:\n",
    "<p>x<sub>1</sub> + x<sub>2</sub> + x<sub>3</sub> = 50000;<br />\n",
    "0,05x<sub>1</sub> + 0,07x<sub>2</sub> = 2250;<br />\n",
    "0,05x<sub>1</sub> + 0,06x<sub>3</sub> = 1400;</p>"
   ]
  },
  {
   "cell_type": "code",
   "execution_count": 1,
   "id": "9d0167aa-a843-46a3-ba08-11b0bfa9f342",
   "metadata": {},
   "outputs": [
    {
     "name": "stdout",
     "output_type": "stream",
     "text": [
      "Положено в 1-й банк: $10000\n",
      "Положено в 2-й банк: $25000\n",
      "Положено в 3-й банк: $15000\n"
     ]
    }
   ],
   "source": [
    "import numpy as np\n",
    "\n",
    "a = np.matrix(\"1,1,1;0.05,0.07,0;0.05,0,0.06\")\n",
    "b = np.matrix(\"50000;2250;1400\")\n",
    "x = np.linalg.solve(a, b).astype(int)\n",
    "print(f'Положено в 1-й банк: ${int(x[0])}')\n",
    "print(f'Положено в 2-й банк: ${int(x[1])}')\n",
    "print(f'Положено в 3-й банк: ${int(x[2])}')"
   ]
  },
  {
   "cell_type": "markdown",
   "id": "fbd9550a-122c-4cee-8a48-a99bc46463ea",
   "metadata": {},
   "source": [
    "# Задание 2"
   ]
  },
  {
   "cell_type": "raw",
   "id": "7d76542a-2291-4eb5-8b23-3fd0652ab3b8",
   "metadata": {},
   "source": [
    "На складе хранятся мобильные телефоны iPhone 6, iPhone 11, iPhone 12 моделей. Всего 1328 экземпляра. Моделей iPhone 6 на 120 меньше, чем моделей iPhone 11, и на 100 больше, чем моделей iPhone 12. Сколько моделей каждого вида на складе?"
   ]
  },
  {
   "cell_type": "markdown",
   "id": "bfff101d-5a3a-41bc-85d8-dcb58f4a2053",
   "metadata": {},
   "source": [
    "x<sub>1</sub>, x<sub>2</sub>, x<sub>3</sub> - количество моделей iPhone 6, iPhone 11, iPhone 12.<br />\n",
    "Получаем систему уравнений:\n",
    "<p>x<sub>1</sub> + x<sub>2</sub> + x<sub>3</sub> = 1328;<br />\n",
    "-x<sub>1</sub> + x<sub>2</sub> = 120;<br />\n",
    "x<sub>1</sub> - x<sub>3</sub> = 100;</p>"
   ]
  },
  {
   "cell_type": "code",
   "execution_count": 2,
   "id": "bf14ee0c-ff81-420d-bb28-ec53188a479a",
   "metadata": {},
   "outputs": [
    {
     "name": "stdout",
     "output_type": "stream",
     "text": [
      "Моделей iPhone6: 436\n",
      "Моделей iPhone11: 556\n",
      "Моделей iPhone12: 336\n"
     ]
    }
   ],
   "source": [
    "import numpy as np\n",
    "\n",
    "a = np.matrix(\"1,1,1;-1,1,0;1,0,-1\")\n",
    "b = np.matrix(\"1328;120;100\")\n",
    "x = np.linalg.solve(a, b).astype(int)\n",
    "print(f'Моделей iPhone6: {int(x[0])}')\n",
    "print(f'Моделей iPhone11: {int(x[1])}')\n",
    "print(f'Моделей iPhone12: {int(x[2])}')"
   ]
  },
  {
   "cell_type": "markdown",
   "id": "4906839d-926a-44a9-a688-b0e5834518e1",
   "metadata": {},
   "source": [
    "# Задание 3"
   ]
  },
  {
   "cell_type": "markdown",
   "id": "491868f4-3cfd-45c9-8c8d-16d2703dddeb",
   "metadata": {},
   "source": [
    "Составьте каноническое уравнение эллипсоида, проходящего через три точки A,B,C.\n",
    "<p><img src=\"01_03_01.png\" /></p>\n",
    "Каноническое уравнение эллипсоида в прямоугольной декартовой системе координат имеет вид:\n",
    "<p><img src=\"01_03_02.png\" /></p>\n",
    "Представим:<br />a<sup>-2</sup> = X<sub>1</sub><br />b<sup>-2</sup> = X<sub>2</sub><br />c<sup>-2</sup> = X<sub>3</sub>"
   ]
  },
  {
   "cell_type": "markdown",
   "id": "c5233289-91d9-4468-8651-5b49375d8e2a",
   "metadata": {},
   "source": [
    "<p>В результате получаем систему уравнений:\n",
    "<p>\n",
    "3x<sub>1</sub> + 3x<sub>3</sub> = 1;<br />\n",
    "6x<sub>1</sub> + 1/4x<sub>2</sub> = 1;<br />\n",
    "x<sub>1</sub> + 1/3x<sub>2</sub> + x<sub>3</sub> = 1;\n",
    "</p>\n",
    "</p>"
   ]
  },
  {
   "cell_type": "code",
   "execution_count": 3,
   "id": "7a75c3c7-ceb8-421d-90ea-33700522c9e6",
   "metadata": {},
   "outputs": [
    {
     "name": "stdout",
     "output_type": "stream",
     "text": [
      "a2=12.0, b2=0.5, c2=4.0\n"
     ]
    }
   ],
   "source": [
    "import numpy as np\n",
    "\n",
    "m1 = np.matrix([[3,0,3], [6,1/4,0], [1,1/3,1]], dtype=float)\n",
    "m2 = np.matrix(\"1;1;1\")\n",
    "x = np.linalg.solve(m1, m2)\n",
    "a2 = round(float(1/x[0]), 1)\n",
    "b2 = round(float(1/x[1]), 1)\n",
    "c2 = round(float(1/x[2]), 1)\n",
    "print(f'a2={a2}, b2={b2}, c2={c2}')"
   ]
  },
  {
   "cell_type": "markdown",
   "id": "57684f0f-7ccb-4bf7-b0b9-38c5fe4c5924",
   "metadata": {},
   "source": [
    "Таким образом, уравнение эллипсоида имеет вид:\n",
    "<p>x<sup>2</sup>/12 + 2y<sup>2</sup> + z<sup>2</sup>/4 = 1</p>"
   ]
  },
  {
   "cell_type": "markdown",
   "id": "c49c10ab-fc22-499b-97c5-0a5f73ee9ea2",
   "metadata": {},
   "source": [
    "# Задание 4"
   ]
  },
  {
   "cell_type": "raw",
   "id": "b8eca68b-ea19-4bad-a56a-afd5e15b9c90",
   "metadata": {},
   "source": [
    "Составьте уравнение параболы проходящей через заданные три точки (1,12), (3,54), (-1,2). Необходимо найти коэффициенты уравнения a,b,с"
   ]
  },
  {
   "cell_type": "markdown",
   "id": "cd8a79dc-95c2-45c2-9d5d-bf9aff095610",
   "metadata": {},
   "source": [
    "y = a &middot; x<sup>2</sup> + b &middot; x + c"
   ]
  },
  {
   "cell_type": "markdown",
   "id": "925867ed-e1b2-4537-943e-ecad79a8fd91",
   "metadata": {},
   "source": [
    "Подставляем значения x и у и получаем систему уравнений:\n",
    "<p>а + b + c = 12;<br />\n",
    "9a + 3b +c = 54;<br />\n",
    "a - b + c = 2;</p>"
   ]
  },
  {
   "cell_type": "code",
   "execution_count": 4,
   "id": "ffa95abe-a21f-4f2a-a202-16d1345e6dc4",
   "metadata": {},
   "outputs": [
    {
     "name": "stdout",
     "output_type": "stream",
     "text": [
      "a=4, b=5, c=3\n"
     ]
    }
   ],
   "source": [
    "import numpy as np\n",
    "\n",
    "m1 = np.matrix(\"1,1,1;9,3,1;1,-1,1\")\n",
    "m2 = np.matrix(\"12;54;2\")\n",
    "x = np.linalg.solve(m1, m2)\n",
    "a = int(x[0])\n",
    "b = int(x[1])\n",
    "c = int(x[2])\n",
    "print(f'a={a}, b={b}, c={c}')"
   ]
  },
  {
   "cell_type": "markdown",
   "id": "82ee0b2c-d879-4b7d-94b7-b7c566598004",
   "metadata": {},
   "source": [
    "Таким образом, уравнение параболы имеет вид:\n",
    "<p>y = 4x<sup>2</sup> + 5x + 3</p>"
   ]
  },
  {
   "cell_type": "markdown",
   "id": "955cf97c-65c6-4385-b5f9-3535803e1e0e",
   "metadata": {},
   "source": [
    "# Задание 5"
   ]
  },
  {
   "cell_type": "markdown",
   "id": "67bb05f3-87eb-4372-9ffb-6b72b8abdad3",
   "metadata": {},
   "source": [
    "Составьте функцию get_polynom, которая по набору точек вида (x<sub>1</sub>,y<sub>1</sub>),(x<sub>2</sub>,y<sub>2</sub>), ... (x<sub>{n+1}</sub>, y<sub>{n+1}</sub>) будет находить коэффициенты многочлена c<sub>i</sub>. Таким образом функция принимает список кортежей с координатами и возвращает набор коэффициентов c<sub>0</sub>,c<sub>1</sub>, ... ,c<sub>n</sub>."
   ]
  },
  {
   "cell_type": "markdown",
   "id": "eb646e6a-d616-4238-a727-82efdf64a4d0",
   "metadata": {},
   "source": [
    "Формула многочлена имеет вид: <br />\n",
    "c<sub>0</sub> + c<sub>1</sub> &middot; x + c<sub>2</sub> &middot; x<sup>2</sup> + ... + c<sub>n</sub> &middot; x<sup>n</sup> = y"
   ]
  },
  {
   "cell_type": "code",
   "execution_count": 5,
   "id": "dc934e13-f75f-4aa1-8c9f-ec2c70a031ad",
   "metadata": {},
   "outputs": [
    {
     "name": "stdout",
     "output_type": "stream",
     "text": [
      "Список координат: [(8, 6), (3, 2), (9, 10)]\n",
      "Коэффициенты многочлена:\n",
      "c0 = 12.4\n",
      "c1 = -5.067\n",
      "c2 = 0.533\n"
     ]
    }
   ],
   "source": [
    "import numpy as np\n",
    "import random\n",
    "\n",
    "def get_polynom(coords):\n",
    "    if len(coords) > 1:\n",
    "        x = ''\n",
    "        y = ''\n",
    "        for i in range(len(coords)):\n",
    "            for n in range(len(coords)):\n",
    "                x += f'{coords[i][0] ** n}'\n",
    "                if n == len(coords) - 1:\n",
    "                    if i < len(coords) - 1:\n",
    "                        x += ';'\n",
    "                else:\n",
    "                    x += ','\n",
    "            y += f'{coords[i][1]}'\n",
    "            if i < len(coords) - 1:\n",
    "                y += ';'\n",
    "        return np.linalg.solve(np.matrix(x), np.matrix(y))\n",
    "    else:\n",
    "        return 'Степень многочлена не может быть < 1.'\n",
    "\n",
    "n = 2 # Степень многочлена\n",
    "coords = []\n",
    "for i in range(n + 1):\n",
    "    coords.append((random.randint(0, 10), random.randint(0, 10)))\n",
    "print(f'Список координат: {coords}')\n",
    "try:\n",
    "    print('Коэффициенты многочлена:')\n",
    "    c = get_polynom(coords).flatten()\n",
    "    for i in range(n + 1):\n",
    "        print(f'c{i} = {round(c[0, i], 3)}')\n",
    "except:\n",
    "    print('Для заданного списка координат не существует решения.')\n"
   ]
  }
 ],
 "metadata": {
  "kernelspec": {
   "display_name": "Python 3 (ipykernel)",
   "language": "python",
   "name": "python3"
  },
  "language_info": {
   "codemirror_mode": {
    "name": "ipython",
    "version": 3
   },
   "file_extension": ".py",
   "mimetype": "text/x-python",
   "name": "python",
   "nbconvert_exporter": "python",
   "pygments_lexer": "ipython3",
   "version": "3.10.4"
  }
 },
 "nbformat": 4,
 "nbformat_minor": 5
}
